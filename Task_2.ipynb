{
  "nbformat": 4,
  "nbformat_minor": 0,
  "metadata": {
    "colab": {
      "name": "Task 2.ipynb",
      "provenance": []
    },
    "kernelspec": {
      "name": "python3",
      "display_name": "Python 3"
    },
    "language_info": {
      "name": "python"
    }
  },
  "cells": [
    {
      "cell_type": "markdown",
      "source": [
        "# Task 2 : Implement from scratch a sampling method to draw samples from a multivariate Normal (MVN) distribution in JAX\n",
        "\n",
        "* Your code should work for any number of dimensions but please set the number of dimensions (random variables of MVN) to 10 for this task.\n",
        "* You are only allowed to use jax.random.uniform. You are especially not allowed to use jax.random.normal.\n",
        "* You should randomly create the mean and covariance matrix to fully specify an MVN distribution.\n",
        "* Implement a sampling method from scratch using which you can draw samples from the specified MVN distribution.\n",
        "* Use your sampling method to draw multiple samples from the MVN distribution and reconstruct the parameters of your MVN distribution (mean and covariance matrix) to confirm that your sampling method is working correctly.\n"
      ],
      "metadata": {
        "id": "Ynm76ZfQp3MR"
      }
    },
    {
      "cell_type": "code",
      "execution_count": 1,
      "metadata": {
        "colab": {
          "base_uri": "https://localhost:8080/"
        },
        "id": "RGeN6w_hp0-K",
        "outputId": "964ff520-297d-442c-f556-3d3b88821aee"
      },
      "outputs": [
        {
          "output_type": "stream",
          "name": "stderr",
          "text": [
            "WARNING:absl:No GPU/TPU found, falling back to CPU. (Set TF_CPP_MIN_LOG_LEVEL=0 and rerun for more info.)\n"
          ]
        }
      ],
      "source": [
        "import jax.numpy as jnp\n",
        "import jax.random as random\n",
        "key = random.PRNGKey(23)"
      ]
    },
    {
      "cell_type": "code",
      "source": [
        "dimension = 10\n",
        "mean_vector = jnp.array([1,2,3,4,5,6,7,8,9,10])\n",
        "K_0 = jnp.array([[1,0,0,0,0,0,0,0,0,0],\n",
        "       [0,1,0,0,0,0,0,0,0,0],\n",
        "       [0,0,1,0,0,0,0,0,0,0],\n",
        "       [0,0,0,1,0,0,0,0,0,0],\n",
        "       [0,0,0,0,1,0,0,0,0,0],\n",
        "       [0,0,0,0,0,1,0,0,0,0],\n",
        "       [0,0,0,0,0,0,1,0,0,0],\n",
        "       [0,0,0,0,0,0,0,1,0,0],\n",
        "       [0,0,0,0,0,0,0,0,1,0],\n",
        "       [0,0,0,0,0,0,0,0,0,1]])\n",
        "\n",
        "K_0 , mean_vector.reshape(10,1)\n",
        "epsilon = 0.0001\n",
        "K = K_0 + epsilon*jnp.identity(dimension)\n",
        "L = jnp.linalg.cholesky(K)\n",
        "jnp.dot(L, jnp.transpose(L))\n",
        "n = 10000\n",
        "u = random.uniform(key,shape=(dimension, n),minval=-3 , maxval=3)\n",
        "x = mean_vector + jnp.dot(L, u).T"
      ],
      "metadata": {
        "id": "BqtGqh5Bqli6"
      },
      "execution_count": 3,
      "outputs": []
    },
    {
      "cell_type": "code",
      "source": [
        "key = random.PRNGKey(67)\n",
        "cov = jnp.array([[1.2, 0.4], [0.4, 1.0]])\n",
        "mean = jnp.array([3,-1])\n",
        "x1 = random.multivariate_normal(key, mean, cov, (10000,)).T\n",
        "x1"
      ],
      "metadata": {
        "colab": {
          "base_uri": "https://localhost:8080/"
        },
        "id": "NUdDTbvSq66W",
        "outputId": "fc63f0b9-ede8-4248-ac79-0b23e1ec2b67"
      },
      "execution_count": 4,
      "outputs": [
        {
          "output_type": "execute_result",
          "data": {
            "text/plain": [
              "DeviceArray([[ 2.8958414 ,  3.3322747 ,  4.738451  , ...,  2.310788  ,\n",
              "               3.790872  ,  3.5540874 ],\n",
              "             [-0.38591176,  1.1789055 ,  1.1619446 , ..., -1.744822  ,\n",
              "               0.53555226, -1.161852  ]], dtype=float32)"
            ]
          },
          "metadata": {},
          "execution_count": 4
        }
      ]
    }
  ]
}